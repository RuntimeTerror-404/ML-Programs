{
 "cells": [
  {
   "cell_type": "code",
   "execution_count": 2,
   "id": "81ee13a2",
   "metadata": {},
   "outputs": [],
   "source": [
    "#import pandas and numpy\n",
    "import pandas as pd\n",
    "import numpy as np"
   ]
  },
  {
   "cell_type": "code",
   "execution_count": 8,
   "id": "b27b30ff",
   "metadata": {},
   "outputs": [],
   "source": [
    "data = pd.read_csv('finds2.csv - finds2.csv.csv')"
   ]
  },
  {
   "cell_type": "code",
   "execution_count": 9,
   "id": "918aee01",
   "metadata": {},
   "outputs": [
    {
     "data": {
      "text/html": [
       "<div>\n",
       "<style scoped>\n",
       "    .dataframe tbody tr th:only-of-type {\n",
       "        vertical-align: middle;\n",
       "    }\n",
       "\n",
       "    .dataframe tbody tr th {\n",
       "        vertical-align: top;\n",
       "    }\n",
       "\n",
       "    .dataframe thead th {\n",
       "        text-align: right;\n",
       "    }\n",
       "</style>\n",
       "<table border=\"1\" class=\"dataframe\">\n",
       "  <thead>\n",
       "    <tr style=\"text-align: right;\">\n",
       "      <th></th>\n",
       "      <th>eyes</th>\n",
       "      <th>nose</th>\n",
       "      <th>head</th>\n",
       "      <th>fcolor</th>\n",
       "      <th>hair</th>\n",
       "      <th>smile</th>\n",
       "    </tr>\n",
       "  </thead>\n",
       "  <tbody>\n",
       "    <tr>\n",
       "      <th>0</th>\n",
       "      <td>round</td>\n",
       "      <td>triangle</td>\n",
       "      <td>circle</td>\n",
       "      <td>purple</td>\n",
       "      <td>yes</td>\n",
       "      <td>yes</td>\n",
       "    </tr>\n",
       "    <tr>\n",
       "      <th>1</th>\n",
       "      <td>square</td>\n",
       "      <td>square</td>\n",
       "      <td>square</td>\n",
       "      <td>green</td>\n",
       "      <td>yes</td>\n",
       "      <td>no</td>\n",
       "    </tr>\n",
       "    <tr>\n",
       "      <th>2</th>\n",
       "      <td>square</td>\n",
       "      <td>triangle</td>\n",
       "      <td>circle</td>\n",
       "      <td>yellow</td>\n",
       "      <td>yes</td>\n",
       "      <td>yes</td>\n",
       "    </tr>\n",
       "    <tr>\n",
       "      <th>3</th>\n",
       "      <td>round</td>\n",
       "      <td>triangle</td>\n",
       "      <td>circle</td>\n",
       "      <td>green</td>\n",
       "      <td>no</td>\n",
       "      <td>no</td>\n",
       "    </tr>\n",
       "    <tr>\n",
       "      <th>4</th>\n",
       "      <td>square</td>\n",
       "      <td>square</td>\n",
       "      <td>circle</td>\n",
       "      <td>yellow</td>\n",
       "      <td>yes</td>\n",
       "      <td>yes</td>\n",
       "    </tr>\n",
       "  </tbody>\n",
       "</table>\n",
       "</div>"
      ],
      "text/plain": [
       "     eyes      nose    head  fcolor hair smile\n",
       "0   round  triangle  circle  purple  yes   yes\n",
       "1  square    square  square   green  yes    no\n",
       "2  square  triangle  circle  yellow  yes   yes\n",
       "3   round  triangle  circle   green   no    no\n",
       "4  square    square  circle  yellow  yes   yes"
      ]
     },
     "execution_count": 9,
     "metadata": {},
     "output_type": "execute_result"
    }
   ],
   "source": [
    "data"
   ]
  },
  {
   "cell_type": "code",
   "execution_count": 10,
   "id": "3d4ed47c",
   "metadata": {},
   "outputs": [],
   "source": [
    "concepts = np.array(data)[:,:-1]"
   ]
  },
  {
   "cell_type": "code",
   "execution_count": 11,
   "id": "94c455ee",
   "metadata": {},
   "outputs": [
    {
     "data": {
      "text/plain": [
       "array([['round', 'triangle', 'circle', 'purple', 'yes'],\n",
       "       ['square', 'square', 'square', 'green', 'yes'],\n",
       "       ['square', 'triangle', 'circle', 'yellow', 'yes'],\n",
       "       ['round', 'triangle', 'circle', 'green', 'no'],\n",
       "       ['square', 'square', 'circle', 'yellow', 'yes']], dtype=object)"
      ]
     },
     "execution_count": 11,
     "metadata": {},
     "output_type": "execute_result"
    }
   ],
   "source": [
    "concepts"
   ]
  },
  {
   "cell_type": "code",
   "execution_count": 12,
   "id": "be133f55",
   "metadata": {},
   "outputs": [],
   "source": [
    "targets = np.array(data)[:,-1]"
   ]
  },
  {
   "cell_type": "code",
   "execution_count": 13,
   "id": "50422863",
   "metadata": {},
   "outputs": [
    {
     "data": {
      "text/plain": [
       "array(['yes', 'no', 'yes', 'no', 'yes'], dtype=object)"
      ]
     },
     "execution_count": 13,
     "metadata": {},
     "output_type": "execute_result"
    }
   ],
   "source": [
    "targets"
   ]
  },
  {
   "cell_type": "code",
   "execution_count": 14,
   "id": "0edcf0d8",
   "metadata": {},
   "outputs": [],
   "source": [
    "def find_S(con,tar):\n",
    "    for i, val in enumerate(tar):\n",
    "        if val == 'yes':\n",
    "            specific_h = con[i].copy()\n",
    "            break\n",
    "    print(specific_h)\n",
    "    \n",
    "    for i, val in enumerate(con):\n",
    "        if tar[i] == 'yes':\n",
    "            for x in range(len(specific_h)):\n",
    "                if val[x] != specific_h[x]:\n",
    "                    specific_h[x] = '?'\n",
    "                    print(specific_h)\n",
    "                else:\n",
    "                    pass\n",
    "    return specific_h"
   ]
  },
  {
   "cell_type": "code",
   "execution_count": 15,
   "id": "97e95966",
   "metadata": {},
   "outputs": [
    {
     "name": "stdout",
     "output_type": "stream",
     "text": [
      "['round' 'triangle' 'circle' 'purple' 'yes']\n",
      "['?' 'triangle' 'circle' 'purple' 'yes']\n",
      "['?' 'triangle' 'circle' '?' 'yes']\n",
      "['?' 'triangle' 'circle' '?' 'yes']\n",
      "['?' '?' 'circle' '?' 'yes']\n",
      "['?' '?' 'circle' '?' 'yes']\n"
     ]
    },
    {
     "data": {
      "text/plain": [
       "array(['?', '?', 'circle', '?', 'yes'], dtype=object)"
      ]
     },
     "execution_count": 15,
     "metadata": {},
     "output_type": "execute_result"
    }
   ],
   "source": [
    "find_S(concepts,targets)"
   ]
  },
  {
   "cell_type": "code",
   "execution_count": null,
   "id": "0cd64c95",
   "metadata": {},
   "outputs": [],
   "source": []
  }
 ],
 "metadata": {
  "kernelspec": {
   "display_name": "Python 3",
   "language": "python",
   "name": "python3"
  },
  "language_info": {
   "codemirror_mode": {
    "name": "ipython",
    "version": 3
   },
   "file_extension": ".py",
   "mimetype": "text/x-python",
   "name": "python",
   "nbconvert_exporter": "python",
   "pygments_lexer": "ipython3",
   "version": "3.8.8"
  }
 },
 "nbformat": 4,
 "nbformat_minor": 5
}
