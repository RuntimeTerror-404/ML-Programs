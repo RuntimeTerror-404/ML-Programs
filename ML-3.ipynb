{
 "cells": [
  {
   "cell_type": "code",
   "execution_count": 41,
   "id": "35fd9fa6",
   "metadata": {},
   "outputs": [],
   "source": [
    "#Decision Tree Based Id3 Algorithm : Write a program to demonstrate the working of the decision tree based Id3 algorithm. Use an \n",
    "#appropriate data set for building the decision tree and apply this knowledge to classify a new sample."
   ]
  },
  {
   "cell_type": "code",
   "execution_count": 42,
   "id": "3a09b542",
   "metadata": {},
   "outputs": [],
   "source": [
    "import math\n",
    "import csv"
   ]
  },
  {
   "cell_type": "code",
   "execution_count": 43,
   "id": "517c2f07",
   "metadata": {},
   "outputs": [],
   "source": [
    "def load_csv(filename):\n",
    "    lines = csv.reader(open(filename,\"r\"));\n",
    "    dataset = list(lines)\n",
    "    headers = dataset.pop(0)\n",
    "    return dataset,headers"
   ]
  },
  {
   "cell_type": "code",
   "execution_count": 44,
   "id": "d4d83a50",
   "metadata": {},
   "outputs": [],
   "source": [
    "class Node:\n",
    "    def __init__(self,attribute):\n",
    "        self.attribute = attribute\n",
    "        self.children = []\n",
    "        self.answer = \"\""
   ]
  },
  {
   "cell_type": "code",
   "execution_count": 45,
   "id": "69e4a0e9",
   "metadata": {},
   "outputs": [],
   "source": [
    "def subtables(data,col,delete):\n",
    "    dic={}\n",
    "    coldata = [row[col] for row in data]\n",
    "    attr = list(set(coldata))\n",
    "    \n",
    "    counts = [0] * len(attr)\n",
    "    r = len(data)\n",
    "    c = len(data[0])\n",
    "    for x in range(len(attr)):\n",
    "        for y in range(r):\n",
    "            if data[y][col] == attr[x]:\n",
    "                counts[x]+=1\n",
    "                \n",
    "    for x in range(len(attr)):\n",
    "        dic[attr[x]] = [[0 for i in range(c)] for j in range(counts[x])]\n",
    "        pos = 0\n",
    "        for y in range(r):\n",
    "            if data[y][col]==attr[x]:\n",
    "                if delete:\n",
    "                    del data[y][col]\n",
    "                dic[attr[x]][pos]=data[y]\n",
    "                pos+=1\n",
    "    return attr,dic"
   ]
  },
  {
   "cell_type": "code",
   "execution_count": 46,
   "id": "f713c4ac",
   "metadata": {},
   "outputs": [],
   "source": [
    "def entropy(S):\n",
    "    attr=list(set(S))\n",
    "    if len(attr)==1:\n",
    "        return 0\n",
    "    \n",
    "    counts = [0,0]\n",
    "    for i in range(2):\n",
    "        counts[i] = sum([1 for x in S if attr[i]==x]) / (len(S) * 1.0)\n",
    "        \n",
    "    sums = 0\n",
    "    for cnt in counts:\n",
    "        sums += -1 * cnt * math.log(cnt,2)\n",
    "    return sums"
   ]
  },
  {
   "cell_type": "code",
   "execution_count": 47,
   "id": "45ed3a80",
   "metadata": {},
   "outputs": [],
   "source": [
    "def compute_gain(data,col):\n",
    "    attr, dic = subtables(data, col, delete=False)\n",
    "    \n",
    "    total_size = len(data)\n",
    "    entropies = [0] * len(attr)\n",
    "    ratio = [0] * len(attr)\n",
    "    \n",
    "    total_entropy = entropy([row[-1] for row in data])\n",
    "    for x in range(len(attr)):\n",
    "        ratio[x] = len(dic[attr[x]])/(total_size*1.0)\n",
    "        entropies[x] = entropy([row[-1] for row in dic[attr[x]]])\n",
    "        total_entropy = ratio[x] * entropies[x]\n",
    "    return total_entropy"
   ]
  },
  {
   "cell_type": "code",
   "execution_count": 55,
   "id": "dba03a2a",
   "metadata": {},
   "outputs": [],
   "source": [
    "def build_tree(data,features):\n",
    "    lastcol = [row[-1] for row in data]\n",
    "    if(len(set(lastcol))) == 1:\n",
    "        node = Node(\"\")\n",
    "        node.answer = lastcol[0]\n",
    "        return node\n",
    "    \n",
    "    n = len(data[0]) - 1\n",
    "    gains = [0] * n\n",
    "    for col in range(n):\n",
    "        gains[col] = compute_gain(data, col)\n",
    "    split = gains.index(max(gains))\n",
    "    node = Node(features[split])\n",
    "    fea = features[:split] + features[split+1:]\n",
    "    \n",
    "    attr, dic = subtables(data, split, delete = True)\n",
    "    for x in range(len(attr)):\n",
    "        child = build_tree(dic[attr[x]], fea)\n",
    "        node.children.append((attr[x], child))\n",
    "    return node"
   ]
  },
  {
   "cell_type": "code",
   "execution_count": 59,
   "id": "5ac65651",
   "metadata": {},
   "outputs": [],
   "source": [
    "def print_tree(node, level):\n",
    "    if node.answer != \"\":\n",
    "        print(\"      \"*level, node.answer)\n",
    "        return\n",
    "    print(\"      \"*level, node.attribute)\n",
    "    for value, n in node.children:\n",
    "        print(\"   \"*(level+1), value)\n",
    "        print_tree(n, level+2)"
   ]
  },
  {
   "cell_type": "code",
   "execution_count": 60,
   "id": "8d0c9636",
   "metadata": {},
   "outputs": [],
   "source": [
    "def classify(node, x_test, features):\n",
    "    if node.answer !=\"\":\n",
    "        print(node.answer)\n",
    "        return\n",
    "    pos = features.index(node.attribute)\n",
    "    for value, n in node.children:\n",
    "        if x_test[pos] == value:\n",
    "            classify(n, x_test, features)"
   ]
  },
  {
   "cell_type": "code",
   "execution_count": 62,
   "id": "fc44e974",
   "metadata": {},
   "outputs": [
    {
     "name": "stdout",
     "output_type": "stream",
     "text": [
      "The decision tree for the dataset using ID3 algorithm is \n",
      " Humidity\n",
      "    normal\n",
      "             Outlook\n",
      "          overcast\n",
      "                         yes\n",
      "          sunny\n",
      "                         yes\n",
      "          rain\n",
      "                         Temperature\n",
      "                mild\n",
      "                                     yes\n",
      "                cool\n",
      "                                     Wind\n",
      "                      weak\n",
      "                                                 yes\n",
      "                      strong\n",
      "                                                 no\n",
      "    high\n",
      "             Temperature\n",
      "          mild\n",
      "                         Outlook\n",
      "                overcast\n",
      "                                     yes\n",
      "                sunny\n",
      "                                     no\n",
      "                rain\n",
      "                                     Wind\n",
      "                      weak\n",
      "                                                 yes\n",
      "                      strong\n",
      "                                                 no\n",
      "          hot\n",
      "                         Outlook\n",
      "                overcast\n",
      "                                     yes\n",
      "                sunny\n",
      "                                     no\n",
      "The test instance:  ['rain', 'cool', 'normal', 'strong']\n",
      "The label for test instance:   no\n",
      "The test instance:  ['sunny', 'mild', 'normal', 'strong']\n",
      "The label for test instance:   yes\n"
     ]
    }
   ],
   "source": [
    "'''Main Program'''\n",
    "dataset, features = load_csv(\"id3.csv\")\n",
    "node1 = build_tree(dataset,features)\n",
    "\n",
    "print(\"The decision tree for the dataset using ID3 algorithm is \")\n",
    "print_tree(node1, 0)\n",
    "testdata, features = load_csv(\"id3_test.csv\")\n",
    "for xtest in testdata:\n",
    "    print(\"The test instance: \",xtest)\n",
    "    print(\"The label for test instance: \",end = \"  \")\n",
    "    classify(node1,xtest,features)"
   ]
  },
  {
   "cell_type": "code",
   "execution_count": null,
   "id": "5dcf349f",
   "metadata": {},
   "outputs": [],
   "source": []
  }
 ],
 "metadata": {
  "kernelspec": {
   "display_name": "Python 3",
   "language": "python",
   "name": "python3"
  },
  "language_info": {
   "codemirror_mode": {
    "name": "ipython",
    "version": 3
   },
   "file_extension": ".py",
   "mimetype": "text/x-python",
   "name": "python",
   "nbconvert_exporter": "python",
   "pygments_lexer": "ipython3",
   "version": "3.8.8"
  }
 },
 "nbformat": 4,
 "nbformat_minor": 5
}
